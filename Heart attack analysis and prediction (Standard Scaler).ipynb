{
 "cells": [
  {
   "cell_type": "code",
   "execution_count": 1,
   "metadata": {},
   "outputs": [],
   "source": [
    "import numpy as np\n",
    "import pandas as pd\n",
    "from sklearn.model_selection import train_test_split\n",
    "from sklearn.neighbors import KNeighborsClassifier"
   ]
  },
  {
   "cell_type": "code",
   "execution_count": 2,
   "metadata": {
    "scrolled": true
   },
   "outputs": [],
   "source": [
    "df = pd.read_csv(r'D:\\Data Analytics\\Heart attack analysis and prediction\\heart.csv')\n"
   ]
  },
  {
   "cell_type": "code",
   "execution_count": 3,
   "metadata": {},
   "outputs": [
    {
     "data": {
      "text/plain": [
       "array([1, 0], dtype=int64)"
      ]
     },
     "execution_count": 3,
     "metadata": {},
     "output_type": "execute_result"
    }
   ],
   "source": [
    "df['output'].unique()"
   ]
  },
  {
   "cell_type": "code",
   "execution_count": 4,
   "metadata": {},
   "outputs": [],
   "source": [
    "y=df['output'] \n",
    "X = df.drop('output', axis = 1)\n",
    "X_train, X_test, y_train, y_test = train_test_split(\n",
    "             X, y, test_size = 0.2, random_state = 0)"
   ]
  },
  {
   "cell_type": "code",
   "execution_count": 49,
   "metadata": {},
   "outputs": [
    {
     "data": {
      "text/plain": [
       "74     1\n",
       "153    1\n",
       "64     1\n",
       "296    0\n",
       "287    0\n",
       "286    0\n",
       "236    0\n",
       "126    1\n",
       "73     1\n",
       "20     1\n",
       "Name: output, dtype: int64"
      ]
     },
     "execution_count": 49,
     "metadata": {},
     "output_type": "execute_result"
    }
   ],
   "source": [
    "y_train[0:10]"
   ]
  },
  {
   "cell_type": "code",
   "execution_count": 50,
   "metadata": {},
   "outputs": [
    {
     "data": {
      "text/plain": [
       "((242, 13), (242,))"
      ]
     },
     "execution_count": 50,
     "metadata": {},
     "output_type": "execute_result"
    }
   ],
   "source": [
    "X_train.shape,y_train.shape"
   ]
  },
  {
   "cell_type": "code",
   "execution_count": 51,
   "metadata": {},
   "outputs": [
    {
     "data": {
      "text/plain": [
       "((61, 13), (61,))"
      ]
     },
     "execution_count": 51,
     "metadata": {},
     "output_type": "execute_result"
    }
   ],
   "source": [
    "X_test.shape,y_test.shape"
   ]
  },
  {
   "cell_type": "code",
   "execution_count": 52,
   "metadata": {},
   "outputs": [],
   "source": [
    "X = df.drop('output', axis = 1)\n",
    "from sklearn.preprocessing import StandardScaler\n",
    "scaler = StandardScaler()\n",
    "X=scaler.fit_transform(X)\n",
    "X_train, X_test, y_train, y_test = train_test_split(\n",
    "             X, y, test_size = 0.2, random_state = 0)"
   ]
  },
  {
   "cell_type": "code",
   "execution_count": 53,
   "metadata": {},
   "outputs": [
    {
     "data": {
      "text/plain": [
       "array([[-1.25357993, -1.46841752,  1.00257707, -0.54964101, -0.64284335,\n",
       "        -0.41763453,  0.89896224,  0.67140036, -0.69663055, -0.7243226 ,\n",
       "        -0.64911323, -0.71442887, -0.51292188],\n",
       "       [ 1.28306308, -1.46841752,  1.00257707,  0.82106867,  0.613313  ,\n",
       "        -0.41763453, -1.00583187,  0.1029038 , -0.69663055, -0.89686172,\n",
       "        -0.64911323,  0.26508221, -0.51292188],\n",
       "       [ 0.40075247,  0.68100522,  1.00257707,  0.47839125, -0.68149432,\n",
       "         2.394438  , -1.00583187,  0.67140036, -0.69663055, -0.89686172,\n",
       "         0.97635214, -0.71442887, -0.51292188],\n",
       "       [ 0.9521966 , -1.46841752, -0.93851463, -0.43541521, -0.95205107,\n",
       "        -0.41763453,  0.89896224, -0.59678428,  1.43548113, -0.89686172,\n",
       "        -0.64911323, -0.71442887, -0.51292188],\n",
       "       [ 0.29046364,  0.68100522,  0.03203122,  1.2779719 , -0.27565919,\n",
       "        -0.41763453, -1.00583187,  0.62766985, -0.69663055, -0.89686172,\n",
       "         0.97635214,  0.26508221, -0.51292188],\n",
       "       [ 0.5110413 ,  0.68100522,  1.97312292,  0.13571383, -0.81677269,\n",
       "        -0.41763453,  0.89896224,  0.54020884, -0.69663055, -0.20670527,\n",
       "         0.97635214,  1.24459328, -0.51292188],\n",
       "       [ 0.40075247,  0.68100522, -0.93851463, -0.3783023 ,  1.03847361,\n",
       "        -0.41763453, -1.00583187,  0.93378339, -0.69663055, -0.89686172,\n",
       "         0.97635214,  1.24459328,  1.12302895],\n",
       "       [-0.81242462,  0.68100522, -0.93851463, -1.12077005, -0.81677269,\n",
       "        -0.41763453,  0.89896224, -0.29067075, -0.69663055, -0.81059216,\n",
       "         0.97635214, -0.71442887, -0.51292188],\n",
       "       [-0.37126932,  0.68100522, -0.93851463,  0.47839125,  0.2847798 ,\n",
       "        -0.41763453, -1.00583187,  1.58974096,  1.43548113, -0.89686172,\n",
       "         0.97635214, -0.71442887, -0.51292188],\n",
       "       [ 0.5110413 ,  0.68100522, -0.93851463,  0.19282673, -0.23700823,\n",
       "        -0.41763453,  0.89896224,  0.49647834, -0.69663055, -0.46551394,\n",
       "        -0.64911323, -0.71442887,  1.12302895]])"
      ]
     },
     "execution_count": 53,
     "metadata": {},
     "output_type": "execute_result"
    }
   ],
   "source": [
    "X_train[0:10]"
   ]
  },
  {
   "cell_type": "code",
   "execution_count": 54,
   "metadata": {},
   "outputs": [],
   "source": [
    "K = []\n",
    "training = []\n",
    "test = []\n",
    "scores = {}\n",
    "  \n",
    "for k in range(1, 40):\n",
    "    clf = KNeighborsClassifier(n_neighbors = k)\n",
    "    clf.fit(X_train, y_train)\n",
    "\n",
    "    training_score = clf.score(X_train, y_train)\n",
    "    test_score = clf.score(X_test, y_test)\n",
    "    K.append(k)\n",
    "\n",
    "    training.append(training_score)\n",
    "    test.append(test_score)\n",
    "    scores[k] = [training_score, test_score]"
   ]
  },
  {
   "cell_type": "code",
   "execution_count": 55,
   "metadata": {},
   "outputs": [
    {
     "name": "stdout",
     "output_type": "stream",
     "text": [
      "1 : [1.0, 0.819672131147541]\n",
      "2 : [0.871900826446281, 0.819672131147541]\n",
      "3 : [0.8636363636363636, 0.8360655737704918]\n",
      "4 : [0.8760330578512396, 0.8524590163934426]\n",
      "5 : [0.8677685950413223, 0.819672131147541]\n",
      "6 : [0.8471074380165289, 0.8524590163934426]\n",
      "7 : [0.8553719008264463, 0.8360655737704918]\n",
      "8 : [0.8512396694214877, 0.8852459016393442]\n",
      "9 : [0.8553719008264463, 0.8524590163934426]\n",
      "10 : [0.8512396694214877, 0.8852459016393442]\n",
      "11 : [0.8553719008264463, 0.8360655737704918]\n",
      "12 : [0.8553719008264463, 0.819672131147541]\n",
      "13 : [0.8471074380165289, 0.8524590163934426]\n",
      "14 : [0.8471074380165289, 0.8524590163934426]\n",
      "15 : [0.8553719008264463, 0.8524590163934426]\n",
      "16 : [0.8553719008264463, 0.8524590163934426]\n",
      "17 : [0.8553719008264463, 0.8524590163934426]\n",
      "18 : [0.859504132231405, 0.8524590163934426]\n",
      "19 : [0.8512396694214877, 0.819672131147541]\n",
      "20 : [0.8512396694214877, 0.819672131147541]\n",
      "21 : [0.8429752066115702, 0.819672131147541]\n",
      "22 : [0.8553719008264463, 0.8360655737704918]\n",
      "23 : [0.8429752066115702, 0.8360655737704918]\n",
      "24 : [0.8512396694214877, 0.8360655737704918]\n",
      "25 : [0.8388429752066116, 0.819672131147541]\n",
      "26 : [0.8388429752066116, 0.8360655737704918]\n",
      "27 : [0.8388429752066116, 0.8032786885245902]\n",
      "28 : [0.8305785123966942, 0.819672131147541]\n",
      "29 : [0.8347107438016529, 0.8032786885245902]\n",
      "30 : [0.8347107438016529, 0.8032786885245902]\n",
      "31 : [0.8347107438016529, 0.8032786885245902]\n",
      "32 : [0.8305785123966942, 0.8032786885245902]\n",
      "33 : [0.8305785123966942, 0.8032786885245902]\n",
      "34 : [0.8305785123966942, 0.8032786885245902]\n",
      "35 : [0.8305785123966942, 0.8032786885245902]\n",
      "36 : [0.8347107438016529, 0.8032786885245902]\n",
      "37 : [0.8305785123966942, 0.8032786885245902]\n",
      "38 : [0.8305785123966942, 0.8032786885245902]\n",
      "39 : [0.8305785123966942, 0.8032786885245902]\n"
     ]
    }
   ],
   "source": [
    "for keys, values in scores.items():\n",
    "    print(keys, ':', values)\n"
   ]
  },
  {
   "cell_type": "code",
   "execution_count": 56,
   "metadata": {},
   "outputs": [
    {
     "name": "stdout",
     "output_type": "stream",
     "text": [
      "The accuracy of KNN is :  88.52459016393442 %\n"
     ]
    }
   ],
   "source": [
    "model = KNeighborsClassifier(n_neighbors = 8)\n",
    "  \n",
    "model.fit(X_train, y_train)\n",
    "predicted = model.predict(X_test)\n",
    "print(\"The accuracy of KNN is : \", accuracy_score(y_test, predicted.round())*100, \"%\")"
   ]
  },
  {
   "cell_type": "code",
   "execution_count": null,
   "metadata": {},
   "outputs": [],
   "source": []
  }
 ],
 "metadata": {
  "kernelspec": {
   "display_name": "Python 3 (ipykernel)",
   "language": "python",
   "name": "python3"
  },
  "language_info": {
   "codemirror_mode": {
    "name": "ipython",
    "version": 3
   },
   "file_extension": ".py",
   "mimetype": "text/x-python",
   "name": "python",
   "nbconvert_exporter": "python",
   "pygments_lexer": "ipython3",
   "version": "3.10.4"
  }
 },
 "nbformat": 4,
 "nbformat_minor": 4
}
