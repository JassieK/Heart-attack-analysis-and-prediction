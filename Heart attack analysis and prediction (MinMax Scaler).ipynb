{
 "cells": [
  {
   "cell_type": "code",
   "execution_count": 1,
   "metadata": {},
   "outputs": [],
   "source": [
    "import numpy as np\n",
    "import pandas as pd\n",
    "from sklearn.model_selection import train_test_split\n",
    "from sklearn.neighbors import KNeighborsClassifier"
   ]
  },
  {
   "cell_type": "code",
   "execution_count": 2,
   "metadata": {
    "scrolled": true
   },
   "outputs": [],
   "source": [
    "df = pd.read_csv(r'D:\\Data Analytics\\Heart attack analysis and prediction\\heart.csv')\n"
   ]
  },
  {
   "cell_type": "code",
   "execution_count": 3,
   "metadata": {},
   "outputs": [
    {
     "data": {
      "text/plain": [
       "array([1, 0], dtype=int64)"
      ]
     },
     "execution_count": 3,
     "metadata": {},
     "output_type": "execute_result"
    }
   ],
   "source": [
    "df['output'].unique()"
   ]
  },
  {
   "cell_type": "code",
   "execution_count": 4,
   "metadata": {},
   "outputs": [],
   "source": [
    "y=df['output'] \n",
    "X = df.drop('output', axis = 1)\n",
    "X_train, X_test, y_train, y_test = train_test_split(\n",
    "             X, y, test_size = 0.2, random_state = 0)"
   ]
  },
  {
   "cell_type": "code",
   "execution_count": 49,
   "metadata": {},
   "outputs": [
    {
     "data": {
      "text/plain": [
       "74     1\n",
       "153    1\n",
       "64     1\n",
       "296    0\n",
       "287    0\n",
       "286    0\n",
       "236    0\n",
       "126    1\n",
       "73     1\n",
       "20     1\n",
       "Name: output, dtype: int64"
      ]
     },
     "execution_count": 49,
     "metadata": {},
     "output_type": "execute_result"
    }
   ],
   "source": [
    "y_train[0:10]"
   ]
  },
  {
   "cell_type": "code",
   "execution_count": 50,
   "metadata": {},
   "outputs": [
    {
     "data": {
      "text/plain": [
       "((242, 13), (242,))"
      ]
     },
     "execution_count": 50,
     "metadata": {},
     "output_type": "execute_result"
    }
   ],
   "source": [
    "X_train.shape,y_train.shape"
   ]
  },
  {
   "cell_type": "code",
   "execution_count": 51,
   "metadata": {},
   "outputs": [
    {
     "data": {
      "text/plain": [
       "((61, 13), (61,))"
      ]
     },
     "execution_count": 51,
     "metadata": {},
     "output_type": "execute_result"
    }
   ],
   "source": [
    "X_test.shape,y_test.shape"
   ]
  },
  {
   "cell_type": "code",
   "execution_count": 11,
   "metadata": {},
   "outputs": [],
   "source": [
    "X = df.drop('output', axis = 1)\n",
    "from sklearn.preprocessing import MinMaxScaler\n",
    "scaler = MinMaxScaler()\n",
    "X=scaler.fit_transform(X)\n",
    "X_train, X_test, y_train, y_test = train_test_split(\n",
    "             X, y, test_size = 0.2, random_state = 0)"
   ]
  },
  {
   "cell_type": "code",
   "execution_count": 12,
   "metadata": {},
   "outputs": [
    {
     "data": {
      "text/plain": [
       "array([[0.29166667, 0.        , 0.66666667, 0.26415094, 0.19863014,\n",
       "        0.        , 0.5       , 0.71755725, 0.        , 0.03225806,\n",
       "        0.5       , 0.        , 0.66666667],\n",
       "       [0.77083333, 0.        , 0.66666667, 0.49056604, 0.34703196,\n",
       "        0.        , 0.        , 0.61832061, 0.        , 0.        ,\n",
       "        0.5       , 0.25      , 0.66666667],\n",
       "       [0.60416667, 1.        , 0.66666667, 0.43396226, 0.19406393,\n",
       "        1.        , 0.        , 0.71755725, 0.        , 0.        ,\n",
       "        1.        , 0.        , 0.66666667],\n",
       "       [0.70833333, 0.        , 0.        , 0.28301887, 0.16210046,\n",
       "        0.        , 0.5       , 0.49618321, 1.        , 0.        ,\n",
       "        0.5       , 0.        , 0.66666667],\n",
       "       [0.58333333, 1.        , 0.33333333, 0.56603774, 0.24200913,\n",
       "        0.        , 0.        , 0.70992366, 0.        , 0.        ,\n",
       "        1.        , 0.25      , 0.66666667],\n",
       "       [0.625     , 1.        , 1.        , 0.37735849, 0.17808219,\n",
       "        0.        , 0.5       , 0.69465649, 0.        , 0.12903226,\n",
       "        1.        , 0.5       , 0.66666667],\n",
       "       [0.60416667, 1.        , 0.        , 0.29245283, 0.39726027,\n",
       "        0.        , 0.        , 0.76335878, 0.        , 0.        ,\n",
       "        1.        , 0.5       , 1.        ],\n",
       "       [0.375     , 1.        , 0.        , 0.16981132, 0.17808219,\n",
       "        0.        , 0.5       , 0.54961832, 0.        , 0.01612903,\n",
       "        1.        , 0.        , 0.66666667],\n",
       "       [0.45833333, 1.        , 0.        , 0.43396226, 0.30821918,\n",
       "        0.        , 0.        , 0.8778626 , 1.        , 0.        ,\n",
       "        1.        , 0.        , 0.66666667],\n",
       "       [0.625     , 1.        , 0.        , 0.38679245, 0.24657534,\n",
       "        0.        , 0.5       , 0.6870229 , 0.        , 0.08064516,\n",
       "        0.5       , 0.        , 1.        ]])"
      ]
     },
     "execution_count": 12,
     "metadata": {},
     "output_type": "execute_result"
    }
   ],
   "source": [
    "X_train[0:10]"
   ]
  },
  {
   "cell_type": "code",
   "execution_count": 13,
   "metadata": {},
   "outputs": [],
   "source": [
    "K = []\n",
    "training = []\n",
    "test = []\n",
    "scores = {}\n",
    "  \n",
    "for k in range(1, 40):\n",
    "    clf = KNeighborsClassifier(n_neighbors = k)\n",
    "    clf.fit(X_train, y_train)\n",
    "\n",
    "    training_score = clf.score(X_train, y_train)\n",
    "    test_score = clf.score(X_test, y_test)\n",
    "    K.append(k)\n",
    "\n",
    "    training.append(training_score)\n",
    "    test.append(test_score)\n",
    "    scores[k] = [training_score, test_score]"
   ]
  },
  {
   "cell_type": "code",
   "execution_count": 14,
   "metadata": {},
   "outputs": [
    {
     "name": "stdout",
     "output_type": "stream",
     "text": [
      "1 : [1.0, 0.8524590163934426]\n",
      "2 : [0.8925619834710744, 0.8360655737704918]\n",
      "3 : [0.8760330578512396, 0.8688524590163934]\n",
      "4 : [0.8429752066115702, 0.8688524590163934]\n",
      "5 : [0.8553719008264463, 0.8688524590163934]\n",
      "6 : [0.8264462809917356, 0.8524590163934426]\n",
      "7 : [0.8471074380165289, 0.9016393442622951]\n",
      "8 : [0.8305785123966942, 0.8688524590163934]\n",
      "9 : [0.8305785123966942, 0.8524590163934426]\n",
      "10 : [0.8264462809917356, 0.8524590163934426]\n",
      "11 : [0.8264462809917356, 0.819672131147541]\n",
      "12 : [0.8181818181818182, 0.819672131147541]\n",
      "13 : [0.8305785123966942, 0.8032786885245902]\n",
      "14 : [0.8347107438016529, 0.8360655737704918]\n",
      "15 : [0.8181818181818182, 0.8360655737704918]\n",
      "16 : [0.8181818181818182, 0.819672131147541]\n",
      "17 : [0.8099173553719008, 0.8032786885245902]\n",
      "18 : [0.8099173553719008, 0.8032786885245902]\n",
      "19 : [0.8140495867768595, 0.7868852459016393]\n",
      "20 : [0.8223140495867769, 0.819672131147541]\n",
      "21 : [0.8223140495867769, 0.7868852459016393]\n",
      "22 : [0.8223140495867769, 0.8032786885245902]\n",
      "23 : [0.8181818181818182, 0.7868852459016393]\n",
      "24 : [0.8140495867768595, 0.7868852459016393]\n",
      "25 : [0.8057851239669421, 0.7704918032786885]\n",
      "26 : [0.8099173553719008, 0.8032786885245902]\n",
      "27 : [0.8099173553719008, 0.7868852459016393]\n",
      "28 : [0.8099173553719008, 0.7868852459016393]\n",
      "29 : [0.8057851239669421, 0.7868852459016393]\n",
      "30 : [0.8140495867768595, 0.7868852459016393]\n",
      "31 : [0.8016528925619835, 0.7868852459016393]\n",
      "32 : [0.8099173553719008, 0.7868852459016393]\n",
      "33 : [0.7975206611570248, 0.7704918032786885]\n",
      "34 : [0.8057851239669421, 0.7868852459016393]\n",
      "35 : [0.7975206611570248, 0.7704918032786885]\n",
      "36 : [0.8016528925619835, 0.7704918032786885]\n",
      "37 : [0.7975206611570248, 0.7704918032786885]\n",
      "38 : [0.8016528925619835, 0.7704918032786885]\n",
      "39 : [0.7892561983471075, 0.7540983606557377]\n"
     ]
    }
   ],
   "source": [
    "for keys, values in scores.items():\n",
    "    print(keys, ':', values)\n"
   ]
  },
  {
   "cell_type": "code",
   "execution_count": 15,
   "metadata": {},
   "outputs": [
    {
     "name": "stdout",
     "output_type": "stream",
     "text": [
      "The accuracy of KNN is :  90.1639344262295 %\n"
     ]
    }
   ],
   "source": [
    "from sklearn.metrics import accuracy_score\n",
    "\n",
    "model = KNeighborsClassifier(n_neighbors = 7)\n",
    "  \n",
    "model.fit(X_train, y_train)\n",
    "predicted = model.predict(X_test)\n",
    "print(\"The accuracy of KNN is : \", accuracy_score(y_test, predicted.round())*100, \"%\")"
   ]
  },
  {
   "cell_type": "code",
   "execution_count": null,
   "metadata": {},
   "outputs": [],
   "source": []
  }
 ],
 "metadata": {
  "kernelspec": {
   "display_name": "Python 3 (ipykernel)",
   "language": "python",
   "name": "python3"
  },
  "language_info": {
   "codemirror_mode": {
    "name": "ipython",
    "version": 3
   },
   "file_extension": ".py",
   "mimetype": "text/x-python",
   "name": "python",
   "nbconvert_exporter": "python",
   "pygments_lexer": "ipython3",
   "version": "3.10.4"
  }
 },
 "nbformat": 4,
 "nbformat_minor": 4
}
